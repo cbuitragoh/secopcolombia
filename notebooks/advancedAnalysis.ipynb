{
 "cells": [
  {
   "cell_type": "code",
   "execution_count": null,
   "id": "4a50148c-f948-4d2e-b36a-d5dedf10d2c9",
   "metadata": {
    "tags": []
   },
   "outputs": [],
   "source": [
    "spark"
   ]
  },
  {
   "cell_type": "code",
   "execution_count": null,
   "id": "e91e103d-444c-4726-832c-6ea682273954",
   "metadata": {},
   "outputs": [],
   "source": [
    "import pyspark.sql.functions as f\n",
    "import re\n",
    "import os\n",
    "\n",
    "from google.cloud import secretmanager"
   ]
  },
  {
   "cell_type": "code",
   "execution_count": null,
   "id": "7de77444-9f82-47f3-a302-31d128b87b87",
   "metadata": {},
   "outputs": [],
   "source": [
    "def get_secret(project_num, secret_id, version):\n",
    "    client = secretmanager.SecretManagerServiceClient()\n",
    "    name = f\"projects/{project_num}/secrets/{secret_id}/versions/{version}\"\n",
    "    response = client.access_secret_version(name=name)\n",
    "    return response.payload.data.decode('UTF-8')"
   ]
  },
  {
   "cell_type": "code",
   "execution_count": null,
   "id": "ace94e3a-3efd-4130-ac9b-08b8bfde74e8",
   "metadata": {
    "tags": []
   },
   "outputs": [],
   "source": [
    "# variables to secret\n",
    "project_num = os.getenv(\"PROJECT_NUM\")\n",
    "secret_id = os.getenv(\"SECRET_ID\")\n",
    "version = os.getenv(\"VERSION\")"
   ]
  },
  {
   "cell_type": "code",
   "execution_count": null,
   "id": "4d2f0354-0839-4115-ac7f-fa399e2c46ef",
   "metadata": {
    "tags": []
   },
   "outputs": [],
   "source": [
    "# load data\n",
    "data = spark.read.csv(get_secret(project_num, secret_id, version), header=True)"
   ]
  },
  {
   "cell_type": "code",
   "execution_count": null,
   "id": "b4e4f411-ed6f-4fa7-873e-82d918c248ec",
   "metadata": {
    "tags": []
   },
   "outputs": [],
   "source": [
    "# show basic data info\n",
    "data.head(5)"
   ]
  },
  {
   "cell_type": "code",
   "execution_count": null,
   "id": "a2194285-e20f-4786-85cc-af4157f6e7c0",
   "metadata": {},
   "outputs": [],
   "source": [
    "# validate types and other info\n",
    "data.dtypes"
   ]
  },
  {
   "cell_type": "code",
   "execution_count": null,
   "id": "3a64a70c-0801-4073-9865-4f98135f1519",
   "metadata": {
    "tags": []
   },
   "outputs": [],
   "source": [
    "data.schema"
   ]
  },
  {
   "cell_type": "code",
   "execution_count": null,
   "id": "263f5d98-4247-44b7-a68c-ffd1e90810aa",
   "metadata": {
    "tags": []
   },
   "outputs": [],
   "source": [
    "null_columns = [col for col in data.columns if data.filter(f.col(col).isNull()).count() > 0]"
   ]
  },
  {
   "cell_type": "code",
   "execution_count": null,
   "id": "ba0ef676-e654-4146-8221-b23e22b4dc71",
   "metadata": {
    "tags": []
   },
   "outputs": [],
   "source": [
    "null_columns"
   ]
  },
  {
   "cell_type": "code",
   "execution_count": null,
   "id": "b29b4795-eace-4dbf-9267-0b0aa4d91cf0",
   "metadata": {
    "tags": []
   },
   "outputs": [],
   "source": [
    "pattern_entity = \"(?i).*entidad.*\""
   ]
  },
  {
   "cell_type": "code",
   "execution_count": null,
   "id": "8e67a67b-6b0d-43ca-a33b-98d48ff94109",
   "metadata": {
    "tags": []
   },
   "outputs": [],
   "source": [
    "entity_columns = [col for col in data.columns if re.match(pattern, col)]"
   ]
  },
  {
   "cell_type": "code",
   "execution_count": null,
   "id": "37298baf-1707-4c2f-bb94-879dcd5a60b3",
   "metadata": {
    "tags": []
   },
   "outputs": [],
   "source": [
    "entity_columns"
   ]
  },
  {
   "cell_type": "code",
   "execution_count": null,
   "id": "ef773e39-1c93-4984-8370-761d74a559af",
   "metadata": {
    "tags": []
   },
   "outputs": [],
   "source": [
    "entity_columns_df = data.select(*entity_columns)"
   ]
  },
  {
   "cell_type": "code",
   "execution_count": null,
   "id": "2f30e4e1-29ca-4908-8449-e727d7f29952",
   "metadata": {
    "tags": []
   },
   "outputs": [],
   "source": [
    "entity_columns_df.head()"
   ]
  },
  {
   "cell_type": "code",
   "execution_count": null,
   "id": "491c6c92-c50f-4167-b0ab-f5309aef794f",
   "metadata": {
    "tags": []
   },
   "outputs": [],
   "source": [
    "pattern_dates = \"(?i).*fecha.*\"\n",
    "date_columns = [col for col in data.columns if re.match(pattern_dates, col)]\n",
    "date_columns_df = data.select(*date_columns)"
   ]
  },
  {
   "cell_type": "code",
   "execution_count": null,
   "id": "e3e2f480-493f-4e4d-8443-02700b1de952",
   "metadata": {
    "tags": []
   },
   "outputs": [],
   "source": [
    "date_columns_df"
   ]
  },
  {
   "cell_type": "code",
   "execution_count": null,
   "id": "40dd14fe-0a49-41c4-9ea8-fedfaeb592d1",
   "metadata": {
    "tags": []
   },
   "outputs": [],
   "source": [
    "pattern_provider = \"(?i).*proveedor.*\"\n",
    "provider_columns = [col for col in data.columns if re.match(pattern_provider, col)]\n",
    "provider_columns_df = data.select(*provider_columns)"
   ]
  },
  {
   "cell_type": "code",
   "execution_count": null,
   "id": "d3977583-23a6-4339-bfb2-9f4a706d7331",
   "metadata": {
    "tags": []
   },
   "outputs": [],
   "source": [
    "provider_columns_df"
   ]
  },
  {
   "cell_type": "code",
   "execution_count": null,
   "id": "7a990e49-b674-4238-b6f9-5e60fcce6785",
   "metadata": {
    "tags": []
   },
   "outputs": [],
   "source": [
    "pattern_procedure = \"(?i).*procedimiento.*\"\n",
    "procedure_columns = [col for col in data.columns if re.match(pattern_procedure, col)]\n",
    "procedure_columns_df = data.select(*procedure_columns)"
   ]
  },
  {
   "cell_type": "code",
   "execution_count": null,
   "id": "38ce1374-d337-40e8-aa8d-2893978d7c6c",
   "metadata": {
    "tags": []
   },
   "outputs": [],
   "source": [
    "procedure_columns_df"
   ]
  },
  {
   "cell_type": "code",
   "execution_count": null,
   "id": "f57d976a-3ed9-4727-9239-d5c7d206f8e3",
   "metadata": {},
   "outputs": [],
   "source": []
  }
 ],
 "metadata": {
  "kernelspec": {
   "display_name": "PySpark",
   "language": "python",
   "name": "pyspark"
  },
  "language_info": {
   "codemirror_mode": {
    "name": "ipython",
    "version": 3
   },
   "file_extension": ".py",
   "mimetype": "text/x-python",
   "name": "python",
   "nbconvert_exporter": "python",
   "pygments_lexer": "ipython3",
   "version": "3.11.8"
  }
 },
 "nbformat": 4,
 "nbformat_minor": 5
}
