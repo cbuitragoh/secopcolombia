{
 "cells": [
  {
   "cell_type": "code",
   "execution_count": 1,
   "metadata": {},
   "outputs": [],
   "source": [
    "import findspark\n",
    "findspark.init()"
   ]
  },
  {
   "cell_type": "code",
   "execution_count": 2,
   "metadata": {},
   "outputs": [
    {
     "name": "stderr",
     "output_type": "stream",
     "text": [
      "C:\\spark\\spark-3.5.0-bin-hadoop3\\python\\pyspark\\pandas\\__init__.py:50: UserWarning: 'PYARROW_IGNORE_TIMEZONE' environment variable was not set. It is required to set this environment variable to '1' in both driver and executor sides if you use pyarrow>=2.0.0. pandas-on-Spark will set it for you but it does not work if there is a Spark context already launched.\n",
      "  warnings.warn(\n",
      "c:\\Users\\user\\AppData\\Local\\Programs\\Python\\Python311\\Lib\\site-packages\\pydantic\\_internal\\_fields.py:160: UserWarning: Field \"model_server_url\" has conflict with protected namespace \"model_\".\n",
      "\n",
      "You may be able to resolve this warning by setting `model_config['protected_namespaces'] = ()`.\n",
      "  warnings.warn(\n",
      "c:\\Users\\user\\AppData\\Local\\Programs\\Python\\Python311\\Lib\\site-packages\\pydantic\\_internal\\_config.py:334: UserWarning: Valid config keys have changed in V2:\n",
      "* 'schema_extra' has been renamed to 'json_schema_extra'\n",
      "  warnings.warn(message, UserWarning)\n"
     ]
    }
   ],
   "source": [
    "from pyspark.sql import SparkSession\n",
    "from pyspark.sql.functions import *\n",
    "from pyspark.sql.types import *\n",
    "from pyspark.pandas import DataFrame\n",
    "import mlflow"
   ]
  },
  {
   "cell_type": "code",
   "execution_count": 3,
   "metadata": {},
   "outputs": [],
   "source": [
    "spark = SparkSession.builder.appName(\"My Powerfull App\").getOrCreate()"
   ]
  },
  {
   "cell_type": "code",
   "execution_count": 4,
   "metadata": {},
   "outputs": [
    {
     "data": {
      "text/html": [
       "\n",
       "            <div>\n",
       "                <p><b>SparkSession - in-memory</b></p>\n",
       "                \n",
       "        <div>\n",
       "            <p><b>SparkContext</b></p>\n",
       "\n",
       "            <p><a href=\"http://DESKTOP-G9U5DAL:4040\">Spark UI</a></p>\n",
       "\n",
       "            <dl>\n",
       "              <dt>Version</dt>\n",
       "                <dd><code>v3.5.0</code></dd>\n",
       "              <dt>Master</dt>\n",
       "                <dd><code>local[*]</code></dd>\n",
       "              <dt>AppName</dt>\n",
       "                <dd><code>My Powerfull App</code></dd>\n",
       "            </dl>\n",
       "        </div>\n",
       "        \n",
       "            </div>\n",
       "        "
      ],
      "text/plain": [
       "<pyspark.sql.session.SparkSession at 0x205eb11ca50>"
      ]
     },
     "execution_count": 4,
     "metadata": {},
     "output_type": "execute_result"
    }
   ],
   "source": [
    "spark"
   ]
  },
  {
   "cell_type": "code",
   "execution_count": 5,
   "metadata": {},
   "outputs": [
    {
     "name": "stderr",
     "output_type": "stream",
     "text": [
      "2024/08/18 22:37:21 INFO mlflow.tracking.fluent: Experiment with name 'test-experiment' does not exist. Creating a new experiment.\n",
      "2024/08/18 22:37:21 WARNING mlflow.utils.autologging_utils: Encountered unexpected error during spark autologging: Exception while attempting to initialize JVM-side state for Spark datasource autologging. Please create a new Spark session and ensure you have the mlflow-spark JAR attached to your Spark session as described in http://mlflow.org/docs/latest/tracking.html#automatic-logging-from-spark-experimental. Exception:\n",
      "'JavaPackage' object is not callable\n",
      "2024/08/18 22:37:21 WARNING mlflow.tracking.fluent: Exception raised while enabling autologging for pyspark: Exception while attempting to initialize JVM-side state for Spark datasource autologging. Please create a new Spark session and ensure you have the mlflow-spark JAR attached to your Spark session as described in http://mlflow.org/docs/latest/tracking.html#automatic-logging-from-spark-experimental. Exception:\n",
      "'JavaPackage' object is not callable\n",
      "2024/08/18 22:37:21 WARNING mlflow.utils.autologging_utils: Encountered unexpected error during spark autologging: Exception while attempting to initialize JVM-side state for Spark datasource autologging. Please create a new Spark session and ensure you have the mlflow-spark JAR attached to your Spark session as described in http://mlflow.org/docs/latest/tracking.html#automatic-logging-from-spark-experimental. Exception:\n",
      "'JavaPackage' object is not callable\n",
      "2024/08/18 22:37:21 INFO mlflow.tracking.fluent: Autologging successfully enabled for pyspark.ml.\n"
     ]
    }
   ],
   "source": [
    "mlflow.set_experiment(\"test-experiment\")\n",
    "mlflow.autolog()"
   ]
  },
  {
   "cell_type": "code",
   "execution_count": 6,
   "metadata": {},
   "outputs": [],
   "source": [
    "# read data\n",
    "df_spark = spark.read.options(header='True', inferSchema='True').csv(\"E:/Documents/ARMANDO/programación/python/secopcolombia/data/01_raw/data_secop.csv\")"
   ]
  },
  {
   "cell_type": "code",
   "execution_count": 7,
   "metadata": {},
   "outputs": [
    {
     "data": {
      "text/plain": [
       "[Row(Entidad='LA CORPORACION COLOMBIANA DE INVESTIGACION AGROPECUARIA  AGROSAVIA', Nit Entidad=800194600, Departamento Entidad='Cundinamarca', Ciudad Entidad='Mosquera', OrdenEntidad='Nacional', Entidad Centralizada='Si', ID del Proceso='CO1.REQ.3663006', Referencia del Proceso='401742', PCI='ND', ID del Portafolio='CO1.BDOS.3568669', Nombre del Procedimiento=None, Descripción del Procedimiento=None, Fase='Presentación de oferta', Fecha de Publicacion del Proceso='11/26/2022', Fecha de Ultima Publicación='11/25/2022', Fecha de Publicacion (Fase Planeacion Precalificacion)=None, Fecha de Publicacion (Fase Seleccion Precalificacion)=None, Fecha de Publicacion (Manifestacion de Interes)=None, Fecha de Publicacion (Fase Borrador)=None, Fecha de Publicacion (Fase Seleccion)='11/25/2022', Precio Base=0, Modalidad de Contratacion='Contratación régimen especial', Justificación Modalidad de Contratación='Regla aplicable', Duracion=10, Unidad de Duracion='Dias', Fecha de Recepcion de Respuestas=None, Fecha de Apertura de Respuesta=None, Fecha de Apertura Efectiva=None, Ciudad de la Unidad de Contratación='Mosquera', Nombre de la Unidad de Contratación='ADQUISICIONES SEDE CENTRAL', Proveedores Invitados=0, Proveedores con Invitacion Directa=0, Visualizaciones del Procedimiento=0, Proveedores que Manifestaron Interes=0, Respuestas al Procedimiento=0, Respuestas Externas=0, Conteo de Respuestas a Ofertas=0, Proveedores Unicos con Respuestas=0, Numero de Lotes=0, Estado del Procedimiento='No Definido', ID Estado del Procedimiento=50, Adjudicado='No', ID Adjudicacion='No Adjudicado', CodigoProveedor='No Adjudicado', Departamento Proveedor='No aplica', Ciudad Proveedor='No aplica', Fecha Adjudicacion=None, Valor Total Adjudicacion=0, Nombre del Adjudicador='No Adjudicado', Nombre del Proveedor Adjudicado='No Adjudicado', NIT del Proveedor Adjudicado='No Adjudicado', Codigo Principal de Categoria='V1.41116000', Estado de Apertura del Proceso='Abierto', Tipo de Contrato='Suministros', Subtipo de Contrato='No Especificado', Categorias Adicionales='ND', URLProceso='https://community.secop.gov.co/Public/Tendering/OpportunityDetail/Index?noticeUID=CO1.NTC.3575355&isFromPublicArea=True&isModal=true&asPopupView=true', Codigo Entidad='718046428', Estado Resumen='Presentación de oferta'),\n",
       " Row(Entidad='SANTIAGO DE CALI DISTRITO ESPECIAL DEPARTAMENTO ADMINISTRATIVO DE DESARROLLO E INNOVACION INSTITUCIONAL', Nit Entidad=890399011, Departamento Entidad='No Definido', Ciudad Entidad='No Definido', OrdenEntidad='Territorial', Entidad Centralizada='No', ID del Proceso='CO1.REQ.723276', Referencia del Proceso='4137.010.32.1.091-2019', PCI='ND', ID del Portafolio='CO1.BDOS.702204', Nombre del Procedimiento='PS Subdirección Gestión Estratégica del Talento Humano   Asistencial', Descripción del Procedimiento='Prestar los servicios de apoyo a la gestión con el fin de brindar soporte a las actividades adelantadas en la Subdirección de Gestión Estratégica del Talento Humano del Departamento Administrativo de Desarrollo e Innovación Institucional', Fase='Presentación de oferta', Fecha de Publicacion del Proceso='01/27/2019', Fecha de Ultima Publicación='01/27/2019', Fecha de Publicacion (Fase Planeacion Precalificacion)=None, Fecha de Publicacion (Fase Seleccion Precalificacion)=None, Fecha de Publicacion (Manifestacion de Interes)=None, Fecha de Publicacion (Fase Borrador)=None, Fecha de Publicacion (Fase Seleccion)='01/27/2019', Precio Base=11284000, Modalidad de Contratacion='Contratación directa', Justificación Modalidad de Contratación='Servicios profesionales y apoyo a la gestión', Duracion=106, Unidad de Duracion='Dias', Fecha de Recepcion de Respuestas=None, Fecha de Apertura de Respuesta=None, Fecha de Apertura Efectiva=None, Ciudad de la Unidad de Contratación='Cali', Nombre de la Unidad de Contratación='CONTRATACION DADII', Proveedores Invitados=0, Proveedores con Invitacion Directa=0, Visualizaciones del Procedimiento=0, Proveedores que Manifestaron Interes=0, Respuestas al Procedimiento=0, Respuestas Externas=0, Conteo de Respuestas a Ofertas=0, Proveedores Unicos con Respuestas=0, Numero de Lotes=2, Estado del Procedimiento='Adjudicado', ID Estado del Procedimiento=70, Adjudicado='No', ID Adjudicacion='No Adjudicado', CodigoProveedor='No Adjudicado', Departamento Proveedor='No aplica', Ciudad Proveedor='No aplica', Fecha Adjudicacion=None, Valor Total Adjudicacion=0, Nombre del Adjudicador='No Adjudicado', Nombre del Proveedor Adjudicado='No Adjudicado', NIT del Proveedor Adjudicado='No Adjudicado', Codigo Principal de Categoria='V1.80111600', Estado de Apertura del Proceso='Abierto', Tipo de Contrato='Servicios de aprovisionamiento', Subtipo de Contrato='No Especificado', Categorias Adicionales='ND', URLProceso='https://community.secop.gov.co/Public/Tendering/OpportunityDetail/Index?noticeUID=CO1.NTC.692108&isFromPublicArea=True&isModal=true&asPopupView=true', Codigo Entidad='704025808', Estado Resumen='Adjudicado'),\n",
       " Row(Entidad='INSTITUTO DE HIDROLOGIA METEOROLOGÍA Y ESTUDIOS AMBIENTALES', Nit Entidad=830000602, Departamento Entidad='No Definido', Ciudad Entidad='No Definido', OrdenEntidad='Nacional', Entidad Centralizada='Si', ID del Proceso='CO1.REQ.4683780', Referencia del Proceso='SAMC-016-2023', PCI='32-02-00', ID del Portafolio='CO1.BDOS.4577403', Nombre del Procedimiento='OBRAS DE ADECUACIÓN Y REPARACIONES LOCATIVAS DE CARACTER PREVENTIVO EN EL INMUEBLE DONDE FUNCIONA AREA OPERATIVA DE LA CIUDAD DE NEIVA DE PROPIEDAD DEL IDEAM', Descripción del Procedimiento='OBRAS DE ADECUACIÓN Y REPARACIONES LOCATIVAS DE CARACTER PREVENTIVO EN EL INMUEBLE DONDE FUNCIONA AREA OPERATIVA DE LA CIUDAD DE NEIVA DE PROPIEDAD DEL IDEAM', Fase='Presentación de observaciones', Fecha de Publicacion del Proceso='06/16/2023', Fecha de Ultima Publicación='06/16/2023', Fecha de Publicacion (Fase Planeacion Precalificacion)=None, Fecha de Publicacion (Fase Seleccion Precalificacion)=None, Fecha de Publicacion (Manifestacion de Interes)=None, Fecha de Publicacion (Fase Borrador)='06/16/2023', Fecha de Publicacion (Fase Seleccion)=None, Precio Base=156079370, Modalidad de Contratacion='Selección Abreviada de Menor Cuantía', Justificación Modalidad de Contratación='Presupuesto menor al 10% de la Menor Cuantía', Duracion=4, Unidad de Duracion='Meses', Fecha de Recepcion de Respuestas='07/14/2023', Fecha de Apertura de Respuesta='07/14/2023', Fecha de Apertura Efectiva='07/14/2023', Ciudad de la Unidad de Contratación='Bogotá', Nombre de la Unidad de Contratación='IDEAM', Proveedores Invitados=162, Proveedores con Invitacion Directa=0, Visualizaciones del Procedimiento=0, Proveedores que Manifestaron Interes=0, Respuestas al Procedimiento=0, Respuestas Externas=0, Conteo de Respuestas a Ofertas=0, Proveedores Unicos con Respuestas=0, Numero de Lotes=0, Estado del Procedimiento='Adjudicado', ID Estado del Procedimiento=70, Adjudicado='No', ID Adjudicacion='No Adjudicado', CodigoProveedor='No Adjudicado', Departamento Proveedor='No aplica', Ciudad Proveedor='No aplica', Fecha Adjudicacion=None, Valor Total Adjudicacion=0, Nombre del Adjudicador='No Adjudicado', Nombre del Proveedor Adjudicado='No Adjudicado', NIT del Proveedor Adjudicado='No Adjudicado', Codigo Principal de Categoria='V1.72153900', Estado de Apertura del Proceso='Cerrado', Tipo de Contrato='Obra', Subtipo de Contrato='No Especificado', Categorias Adicionales='ND', URLProceso='https://community.secop.gov.co/Public/Tendering/OpportunityDetail/Index?noticeUID=CO1.NTC.4588456&isFromPublicArea=True&isModal=true&asPopupView=true', Codigo Entidad='700696065', Estado Resumen='Presentación de observaciones'),\n",
       " Row(Entidad='EMPRESAS MUNICIPALES DE CALI', Nit Entidad=890399003, Departamento Entidad='Valle del Cauca', Ciudad Entidad='Cali', OrdenEntidad='Territorial', Entidad Centralizada='Si', ID del Proceso='CO1.REQ.4015494', Referencia del Proceso='300-IP-1147-2023', PCI='ND', ID del Portafolio='CO1.BDOS.3920026', Nombre del Procedimiento='Prestación de servicios de apoyo técnico a la gestión en terreno de las actividades operativo comerciales relativas a la Subgerencia de Gestión Comercial y sus Unidades de Negocio cumpliendo con las', Descripción del Procedimiento='Prestación de servicios de apoyo técnico a la gestión en terreno de las actividades operativo comerciales relativas a la Subgerencia de Gestión Comercial y sus Unidades de Negocio cumpliendo con las normas técnicas de EMCALI', Fase='Presentación de oferta', Fecha de Publicacion del Proceso='02/03/2023', Fecha de Ultima Publicación='02/03/2023', Fecha de Publicacion (Fase Planeacion Precalificacion)=None, Fecha de Publicacion (Fase Seleccion Precalificacion)=None, Fecha de Publicacion (Manifestacion de Interes)=None, Fecha de Publicacion (Fase Borrador)=None, Fecha de Publicacion (Fase Seleccion)='02/03/2023', Precio Base=10340000, Modalidad de Contratacion='Contratación régimen especial', Justificación Modalidad de Contratación='Regla aplicable', Duracion=120, Unidad de Duracion='Dias', Fecha de Recepcion de Respuestas=None, Fecha de Apertura de Respuesta=None, Fecha de Apertura Efectiva=None, Ciudad de la Unidad de Contratación='Cali', Nombre de la Unidad de Contratación='GUENAA Gerencia de Acueducto y Alcantarillado', Proveedores Invitados=0, Proveedores con Invitacion Directa=0, Visualizaciones del Procedimiento=0, Proveedores que Manifestaron Interes=0, Respuestas al Procedimiento=0, Respuestas Externas=0, Conteo de Respuestas a Ofertas=0, Proveedores Unicos con Respuestas=0, Numero de Lotes=0, Estado del Procedimiento='No Definido', ID Estado del Procedimiento=50, Adjudicado='No', ID Adjudicacion='No Adjudicado', CodigoProveedor='No Adjudicado', Departamento Proveedor='No aplica', Ciudad Proveedor='No aplica', Fecha Adjudicacion=None, Valor Total Adjudicacion=0, Nombre del Adjudicador='No Adjudicado', Nombre del Proveedor Adjudicado='No Adjudicado', NIT del Proveedor Adjudicado='No Adjudicado', Codigo Principal de Categoria='V1.80111600', Estado de Apertura del Proceso='Abierto', Tipo de Contrato='Servicios de aprovisionamiento', Subtipo de Contrato='No Especificado', Categorias Adicionales='ND', URLProceso='https://community.secop.gov.co/Public/Tendering/OpportunityDetail/Index?noticeUID=CO1.NTC.3921109&isFromPublicArea=True&isModal=true&asPopupView=true', Codigo Entidad='718393382', Estado Resumen='Presentación de oferta'),\n",
       " Row(Entidad='INSTITUCION EDUCATIVA NELSY GARCÍA OCAMPOIBAGUE', Nit Entidad=809012621, Departamento Entidad='Tolima', Ciudad Entidad='Ibagué', OrdenEntidad='Territorial', Entidad Centralizada='Si', ID del Proceso='CO1.REQ.4409253', Referencia del Proceso='CT 005-2023', PCI='ND', ID del Portafolio='CO1.BDOS.4309513', Nombre del Procedimiento='SUMINSTRO DE ELEMNTOS DE ASEO', Descripción del Procedimiento='ADQUISICION DE ELEMENTOS DE ASEO PARA LA SEDE CENTRAL Y ANEXAS DE LA INSTITUCION EDUCATIVA NELSY GARCIA OCAMPO', Fase='Presentación de oferta', Fecha de Publicacion del Proceso='04/19/2023', Fecha de Ultima Publicación='04/18/2023', Fecha de Publicacion (Fase Planeacion Precalificacion)=None, Fecha de Publicacion (Fase Seleccion Precalificacion)=None, Fecha de Publicacion (Manifestacion de Interes)=None, Fecha de Publicacion (Fase Borrador)=None, Fecha de Publicacion (Fase Seleccion)='04/18/2023', Precio Base=6537100, Modalidad de Contratacion='Contratación régimen especial', Justificación Modalidad de Contratación='Regla aplicable', Duracion=2, Unidad de Duracion='Dias', Fecha de Recepcion de Respuestas=None, Fecha de Apertura de Respuesta=None, Fecha de Apertura Efectiva=None, Ciudad de la Unidad de Contratación='Ibagué', Nombre de la Unidad de Contratación='RECTORIA', Proveedores Invitados=0, Proveedores con Invitacion Directa=0, Visualizaciones del Procedimiento=0, Proveedores que Manifestaron Interes=0, Respuestas al Procedimiento=0, Respuestas Externas=0, Conteo de Respuestas a Ofertas=0, Proveedores Unicos con Respuestas=0, Numero de Lotes=0, Estado del Procedimiento='No Definido', ID Estado del Procedimiento=50, Adjudicado='No', ID Adjudicacion='No Adjudicado', CodigoProveedor='No Adjudicado', Departamento Proveedor='No aplica', Ciudad Proveedor='No aplica', Fecha Adjudicacion=None, Valor Total Adjudicacion=0, Nombre del Adjudicador='No Adjudicado', Nombre del Proveedor Adjudicado='No Adjudicado', NIT del Proveedor Adjudicado='No Adjudicado', Codigo Principal de Categoria='V1.47131600', Estado de Apertura del Proceso='Abierto', Tipo de Contrato='Compraventa', Subtipo de Contrato='No Especificado', Categorias Adicionales='ND', URLProceso='https://community.secop.gov.co/Public/Tendering/OpportunityDetail/Index?noticeUID=CO1.NTC.4312597&isFromPublicArea=True&isModal=true&asPopupView=true', Codigo Entidad='718655392', Estado Resumen='Presentación de oferta')]"
      ]
     },
     "execution_count": 7,
     "metadata": {},
     "output_type": "execute_result"
    }
   ],
   "source": [
    "df_spark.head(5)"
   ]
  },
  {
   "cell_type": "code",
   "execution_count": 8,
   "metadata": {},
   "outputs": [
    {
     "data": {
      "text/plain": [
       "DataFrame[summary: string, Entidad: string, Nit Entidad: string, Departamento Entidad: string, Ciudad Entidad: string, OrdenEntidad: string, Entidad Centralizada: string, ID del Proceso: string, Referencia del Proceso: string, PCI: string, ID del Portafolio: string, Nombre del Procedimiento: string, Descripción del Procedimiento: string, Fase: string, Fecha de Publicacion del Proceso: string, Fecha de Ultima Publicación: string, Fecha de Publicacion (Fase Planeacion Precalificacion): string, Fecha de Publicacion (Fase Seleccion Precalificacion): string, Fecha de Publicacion (Manifestacion de Interes): string, Fecha de Publicacion (Fase Borrador): string, Fecha de Publicacion (Fase Seleccion): string, Precio Base: string, Modalidad de Contratacion: string, Justificación Modalidad de Contratación: string, Duracion: string, Unidad de Duracion: string, Fecha de Recepcion de Respuestas: string, Fecha de Apertura de Respuesta: string, Fecha de Apertura Efectiva: string, Ciudad de la Unidad de Contratación: string, Nombre de la Unidad de Contratación: string, Proveedores Invitados: string, Proveedores con Invitacion Directa: string, Visualizaciones del Procedimiento: string, Proveedores que Manifestaron Interes: string, Respuestas al Procedimiento: string, Respuestas Externas: string, Conteo de Respuestas a Ofertas: string, Proveedores Unicos con Respuestas: string, Numero de Lotes: string, Estado del Procedimiento: string, ID Estado del Procedimiento: string, Adjudicado: string, ID Adjudicacion: string, CodigoProveedor: string, Departamento Proveedor: string, Ciudad Proveedor: string, Fecha Adjudicacion: string, Valor Total Adjudicacion: string, Nombre del Adjudicador: string, Nombre del Proveedor Adjudicado: string, NIT del Proveedor Adjudicado: string, Codigo Principal de Categoria: string, Estado de Apertura del Proceso: string, Tipo de Contrato: string, Subtipo de Contrato: string, Categorias Adicionales: string, URLProceso: string, Codigo Entidad: string, Estado Resumen: string]"
      ]
     },
     "execution_count": 8,
     "metadata": {},
     "output_type": "execute_result"
    }
   ],
   "source": [
    "df_spark.describe()"
   ]
  },
  {
   "cell_type": "code",
   "execution_count": 9,
   "metadata": {},
   "outputs": [
    {
     "data": {
      "text/plain": [
       "['Entidad',\n",
       " 'Nit Entidad',\n",
       " 'Departamento Entidad',\n",
       " 'Ciudad Entidad',\n",
       " 'OrdenEntidad',\n",
       " 'Entidad Centralizada',\n",
       " 'ID del Proceso',\n",
       " 'Referencia del Proceso',\n",
       " 'PCI',\n",
       " 'ID del Portafolio',\n",
       " 'Nombre del Procedimiento',\n",
       " 'Descripción del Procedimiento',\n",
       " 'Fase',\n",
       " 'Fecha de Publicacion del Proceso',\n",
       " 'Fecha de Ultima Publicación',\n",
       " 'Fecha de Publicacion (Fase Planeacion Precalificacion)',\n",
       " 'Fecha de Publicacion (Fase Seleccion Precalificacion)',\n",
       " 'Fecha de Publicacion (Manifestacion de Interes)',\n",
       " 'Fecha de Publicacion (Fase Borrador)',\n",
       " 'Fecha de Publicacion (Fase Seleccion)',\n",
       " 'Precio Base',\n",
       " 'Modalidad de Contratacion',\n",
       " 'Justificación Modalidad de Contratación',\n",
       " 'Duracion',\n",
       " 'Unidad de Duracion',\n",
       " 'Fecha de Recepcion de Respuestas',\n",
       " 'Fecha de Apertura de Respuesta',\n",
       " 'Fecha de Apertura Efectiva',\n",
       " 'Ciudad de la Unidad de Contratación',\n",
       " 'Nombre de la Unidad de Contratación',\n",
       " 'Proveedores Invitados',\n",
       " 'Proveedores con Invitacion Directa',\n",
       " 'Visualizaciones del Procedimiento',\n",
       " 'Proveedores que Manifestaron Interes',\n",
       " 'Respuestas al Procedimiento',\n",
       " 'Respuestas Externas',\n",
       " 'Conteo de Respuestas a Ofertas',\n",
       " 'Proveedores Unicos con Respuestas',\n",
       " 'Numero de Lotes',\n",
       " 'Estado del Procedimiento',\n",
       " 'ID Estado del Procedimiento',\n",
       " 'Adjudicado',\n",
       " 'ID Adjudicacion',\n",
       " 'CodigoProveedor',\n",
       " 'Departamento Proveedor',\n",
       " 'Ciudad Proveedor',\n",
       " 'Fecha Adjudicacion',\n",
       " 'Valor Total Adjudicacion',\n",
       " 'Nombre del Adjudicador',\n",
       " 'Nombre del Proveedor Adjudicado',\n",
       " 'NIT del Proveedor Adjudicado',\n",
       " 'Codigo Principal de Categoria',\n",
       " 'Estado de Apertura del Proceso',\n",
       " 'Tipo de Contrato',\n",
       " 'Subtipo de Contrato',\n",
       " 'Categorias Adicionales',\n",
       " 'URLProceso',\n",
       " 'Codigo Entidad',\n",
       " 'Estado Resumen']"
      ]
     },
     "execution_count": 9,
     "metadata": {},
     "output_type": "execute_result"
    }
   ],
   "source": [
    "df_spark.columns"
   ]
  },
  {
   "cell_type": "code",
   "execution_count": 12,
   "metadata": {},
   "outputs": [
    {
     "data": {
      "text/plain": [
       "StructType([StructField('Entidad', StringType(), True), StructField('Nit Entidad', LongType(), True), StructField('Departamento Entidad', StringType(), True), StructField('Ciudad Entidad', StringType(), True), StructField('OrdenEntidad', StringType(), True), StructField('Entidad Centralizada', StringType(), True), StructField('ID del Proceso', StringType(), True), StructField('Referencia del Proceso', StringType(), True), StructField('PCI', StringType(), True), StructField('ID del Portafolio', StringType(), True), StructField('Nombre del Procedimiento', StringType(), True), StructField('Descripción del Procedimiento', StringType(), True), StructField('Fase', StringType(), True), StructField('Fecha de Publicacion del Proceso', StringType(), True), StructField('Fecha de Ultima Publicación', StringType(), True), StructField('Fecha de Publicacion (Fase Planeacion Precalificacion)', StringType(), True), StructField('Fecha de Publicacion (Fase Seleccion Precalificacion)', StringType(), True), StructField('Fecha de Publicacion (Manifestacion de Interes)', StringType(), True), StructField('Fecha de Publicacion (Fase Borrador)', StringType(), True), StructField('Fecha de Publicacion (Fase Seleccion)', StringType(), True), StructField('Precio Base', LongType(), True), StructField('Modalidad de Contratacion', StringType(), True), StructField('Justificación Modalidad de Contratación', StringType(), True), StructField('Duracion', IntegerType(), True), StructField('Unidad de Duracion', StringType(), True), StructField('Fecha de Recepcion de Respuestas', StringType(), True), StructField('Fecha de Apertura de Respuesta', StringType(), True), StructField('Fecha de Apertura Efectiva', StringType(), True), StructField('Ciudad de la Unidad de Contratación', StringType(), True), StructField('Nombre de la Unidad de Contratación', StringType(), True), StructField('Proveedores Invitados', IntegerType(), True), StructField('Proveedores con Invitacion Directa', IntegerType(), True), StructField('Visualizaciones del Procedimiento', IntegerType(), True), StructField('Proveedores que Manifestaron Interes', IntegerType(), True), StructField('Respuestas al Procedimiento', IntegerType(), True), StructField('Respuestas Externas', IntegerType(), True), StructField('Conteo de Respuestas a Ofertas', IntegerType(), True), StructField('Proveedores Unicos con Respuestas', IntegerType(), True), StructField('Numero de Lotes', IntegerType(), True), StructField('Estado del Procedimiento', StringType(), True), StructField('ID Estado del Procedimiento', IntegerType(), True), StructField('Adjudicado', StringType(), True), StructField('ID Adjudicacion', StringType(), True), StructField('CodigoProveedor', StringType(), True), StructField('Departamento Proveedor', StringType(), True), StructField('Ciudad Proveedor', StringType(), True), StructField('Fecha Adjudicacion', StringType(), True), StructField('Valor Total Adjudicacion', LongType(), True), StructField('Nombre del Adjudicador', StringType(), True), StructField('Nombre del Proveedor Adjudicado', StringType(), True), StructField('NIT del Proveedor Adjudicado', StringType(), True), StructField('Codigo Principal de Categoria', StringType(), True), StructField('Estado de Apertura del Proceso', StringType(), True), StructField('Tipo de Contrato', StringType(), True), StructField('Subtipo de Contrato', StringType(), True), StructField('Categorias Adicionales', StringType(), True), StructField('URLProceso', StringType(), True), StructField('Codigo Entidad', StringType(), True), StructField('Estado Resumen', StringType(), True)])"
      ]
     },
     "execution_count": 12,
     "metadata": {},
     "output_type": "execute_result"
    }
   ],
   "source": [
    "df_spark.schema"
   ]
  },
  {
   "cell_type": "code",
   "execution_count": 17,
   "metadata": {},
   "outputs": [
    {
     "data": {
      "text/plain": [
       "3543628"
      ]
     },
     "execution_count": 17,
     "metadata": {},
     "output_type": "execute_result"
    }
   ],
   "source": [
    "len(df_spark.select(\"Fase\").collect())"
   ]
  },
  {
   "cell_type": "code",
   "execution_count": 18,
   "metadata": {},
   "outputs": [],
   "source": [
    "from pyspark.sql.functions import col,isnan, when, count"
   ]
  },
  {
   "cell_type": "code",
   "execution_count": 19,
   "metadata": {},
   "outputs": [
    {
     "name": "stdout",
     "output_type": "stream",
     "text": [
      "+-------+-----------+--------------------+--------------+------------+--------------------+--------------+----------------------+---+-----------------+------------------------+-----------------------------+----+--------------------------------+---------------------------+------------------------------------------------------+-----------------------------------------------------+-----------------------------------------------+------------------------------------+-------------------------------------+-----------+-------------------------+---------------------------------------+--------+------------------+--------------------------------+------------------------------+--------------------------+-----------------------------------+-----------------------------------+---------------------+----------------------------------+---------------------------------+------------------------------------+---------------------------+-------------------+------------------------------+---------------------------------+---------------+------------------------+---------------------------+----------+---------------+---------------+----------------------+----------------+------------------+------------------------+----------------------+-------------------------------+----------------------------+-----------------------------+------------------------------+----------------+-------------------+----------------------+----------+--------------+--------------+\n",
      "|Entidad|Nit Entidad|Departamento Entidad|Ciudad Entidad|OrdenEntidad|Entidad Centralizada|ID del Proceso|Referencia del Proceso|PCI|ID del Portafolio|Nombre del Procedimiento|Descripción del Procedimiento|Fase|Fecha de Publicacion del Proceso|Fecha de Ultima Publicación|Fecha de Publicacion (Fase Planeacion Precalificacion)|Fecha de Publicacion (Fase Seleccion Precalificacion)|Fecha de Publicacion (Manifestacion de Interes)|Fecha de Publicacion (Fase Borrador)|Fecha de Publicacion (Fase Seleccion)|Precio Base|Modalidad de Contratacion|Justificación Modalidad de Contratación|Duracion|Unidad de Duracion|Fecha de Recepcion de Respuestas|Fecha de Apertura de Respuesta|Fecha de Apertura Efectiva|Ciudad de la Unidad de Contratación|Nombre de la Unidad de Contratación|Proveedores Invitados|Proveedores con Invitacion Directa|Visualizaciones del Procedimiento|Proveedores que Manifestaron Interes|Respuestas al Procedimiento|Respuestas Externas|Conteo de Respuestas a Ofertas|Proveedores Unicos con Respuestas|Numero de Lotes|Estado del Procedimiento|ID Estado del Procedimiento|Adjudicado|ID Adjudicacion|CodigoProveedor|Departamento Proveedor|Ciudad Proveedor|Fecha Adjudicacion|Valor Total Adjudicacion|Nombre del Adjudicador|Nombre del Proveedor Adjudicado|NIT del Proveedor Adjudicado|Codigo Principal de Categoria|Estado de Apertura del Proceso|Tipo de Contrato|Subtipo de Contrato|Categorias Adicionales|URLProceso|Codigo Entidad|Estado Resumen|\n",
      "+-------+-----------+--------------------+--------------+------------+--------------------+--------------+----------------------+---+-----------------+------------------------+-----------------------------+----+--------------------------------+---------------------------+------------------------------------------------------+-----------------------------------------------------+-----------------------------------------------+------------------------------------+-------------------------------------+-----------+-------------------------+---------------------------------------+--------+------------------+--------------------------------+------------------------------+--------------------------+-----------------------------------+-----------------------------------+---------------------+----------------------------------+---------------------------------+------------------------------------+---------------------------+-------------------+------------------------------+---------------------------------+---------------+------------------------+---------------------------+----------+---------------+---------------+----------------------+----------------+------------------+------------------------+----------------------+-------------------------------+----------------------------+-----------------------------+------------------------------+----------------+-------------------+----------------------+----------+--------------+--------------+\n",
      "|      2|          0|                   0|             0|           0|                   0|             0|                     0|  0|                0|                   38893|                        79680|   0|                            3130|                       3130|                                               3543622|                                              3543622|                                        3511790|                             3466103|                               112505|          0|                        0|                                      0|       0|                 0|                         3004545|                       3141170|                   3012621|                                  0|                               1000|                    0|                                 0|                                0|                                   0|                          0|                  0|                             0|                                0|              0|                       0|                          0|         0|              0|              0|                     0|               0|           3218101|                       0|                     3|                              0|                           0|                            0|                             0|               0|                  0|                     0|         0|             0|             0|\n",
      "+-------+-----------+--------------------+--------------+------------+--------------------+--------------+----------------------+---+-----------------+------------------------+-----------------------------+----+--------------------------------+---------------------------+------------------------------------------------------+-----------------------------------------------------+-----------------------------------------------+------------------------------------+-------------------------------------+-----------+-------------------------+---------------------------------------+--------+------------------+--------------------------------+------------------------------+--------------------------+-----------------------------------+-----------------------------------+---------------------+----------------------------------+---------------------------------+------------------------------------+---------------------------+-------------------+------------------------------+---------------------------------+---------------+------------------------+---------------------------+----------+---------------+---------------+----------------------+----------------+------------------+------------------------+----------------------+-------------------------------+----------------------------+-----------------------------+------------------------------+----------------+-------------------+----------------------+----------+--------------+--------------+\n",
      "\n"
     ]
    }
   ],
   "source": [
    "df_spark.select([count(when(isnan(c) | col(c).isNull(), c)).alias(c) for c in df_spark.columns]).show()"
   ]
  },
  {
   "cell_type": "code",
   "execution_count": null,
   "metadata": {},
   "outputs": [],
   "source": []
  }
 ],
 "metadata": {
  "kernelspec": {
   "display_name": "Python 3",
   "language": "python",
   "name": "python3"
  },
  "language_info": {
   "codemirror_mode": {
    "name": "ipython",
    "version": 3
   },
   "file_extension": ".py",
   "mimetype": "text/x-python",
   "name": "python",
   "nbconvert_exporter": "python",
   "pygments_lexer": "ipython3",
   "version": "3.11.4"
  }
 },
 "nbformat": 4,
 "nbformat_minor": 2
}
